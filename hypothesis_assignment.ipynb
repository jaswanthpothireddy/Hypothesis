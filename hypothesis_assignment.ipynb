{
 "cells": [
  {
   "cell_type": "code",
   "execution_count": 1,
   "metadata": {},
   "outputs": [],
   "source": [
    "from scipy.stats import norm"
   ]
  },
  {
   "cell_type": "code",
   "execution_count": 2,
   "metadata": {},
   "outputs": [],
   "source": [
    "import math\n",
    "import numpy as np\n",
    "from numpy.random import randn"
   ]
  },
  {
   "cell_type": "code",
   "execution_count": 26,
   "metadata": {},
   "outputs": [],
   "source": [
    "from scipy.stats import t"
   ]
  },
  {
   "cell_type": "code",
   "execution_count": 134,
   "metadata": {},
   "outputs": [],
   "source": [
    "def t_sample(sample_mean,population_mean,sample_standard_deviation,sample_size):\n",
    "    numerator = sample_mean - population_mean\n",
    "    denominator = sample_standard_deviation/np.sqrt(sample_size)\n",
    "    return numerator / denominator"
   ]
  },
  {
   "cell_type": "markdown",
   "metadata": {},
   "source": [
    "### Q-1: Pista House selling Hyderabadi Chicken Dum biryani claims that each parcel packet\n",
    "###     has 500 grams of biryani (also mentioned on the label of packet). You are sceptic of their\n",
    "###     claims and believe that on average each packet does not contain 500 grams of biryani.\n",
    "###     How do you prove your claim?"
   ]
  },
  {
   "cell_type": "markdown",
   "metadata": {},
   "source": [
    "###   Null Hypothesis : $$ H_0 : \\mu = 500 $$\n",
    "###  Alternate Hypothesis : $$ H_1 : \\mu \\neq 500 $$"
   ]
  },
  {
   "cell_type": "code",
   "execution_count": 135,
   "metadata": {},
   "outputs": [],
   "source": [
    "sample = [490, 220, 470, 500, 495, 496, 496, 498, 508, 480]\n",
    "sample_mean = np.mean(sample)\n",
    "sample_size = len(sample)\n",
    "sample_standard_deviation = np.std(sample)\n",
    "population_mean = 500"
   ]
  },
  {
   "cell_type": "code",
   "execution_count": 136,
   "metadata": {},
   "outputs": [
    {
     "name": "stdout",
     "output_type": "stream",
     "text": [
      "population mean = 500 \n",
      "sample mean = 465.3 \n",
      "sample std = 82.3918078451978 \n",
      "sample size = 10\n"
     ]
    }
   ],
   "source": [
    "print(f'population mean = {population_mean} \\nsample mean = {sample_mean} \\nsample std = {sample_standard_deviation} \\nsample size = {sample_size}')"
   ]
  },
  {
   "cell_type": "code",
   "execution_count": 137,
   "metadata": {},
   "outputs": [
    {
     "data": {
      "text/plain": [
       "-1.3318197242863192"
      ]
     },
     "execution_count": 137,
     "metadata": {},
     "output_type": "execute_result"
    }
   ],
   "source": [
    "t_cal = t_sample(sample_mean, population_mean, sample_standard_deviation, sample_size)\n",
    "t_cal"
   ]
  },
  {
   "cell_type": "code",
   "execution_count": 138,
   "metadata": {},
   "outputs": [
    {
     "data": {
      "text/plain": [
       "2.2621571627409915"
      ]
     },
     "execution_count": 138,
     "metadata": {},
     "output_type": "execute_result"
    }
   ],
   "source": [
    "alpha = 0.05\n",
    "t_critical = t.ppf(1-alpha/2, sample_size-1)\n",
    "t_critical"
   ]
  },
  {
   "cell_type": "code",
   "execution_count": 139,
   "metadata": {},
   "outputs": [],
   "source": [
    "x_min = -4\n",
    "x_max = 4\n",
    "dof = sample_size-1"
   ]
  },
  {
   "cell_type": "code",
   "execution_count": 140,
   "metadata": {},
   "outputs": [],
   "source": [
    "import matplotlib.pyplot as plt"
   ]
  },
  {
   "cell_type": "code",
   "execution_count": 141,
   "metadata": {
    "scrolled": true
   },
   "outputs": [
    {
     "data": {
      "image/png": "[encoded data removed]",
      "text/plain": [
       "<Figure size 432x288 with 1 Axes>"
      ]
     },
     "metadata": {
      "needs_background": "light"
     },
     "output_type": "display_data"
    }
   ],
   "source": [
    "x = np.linspace(x_min, x_max, 100)\n",
    "plt.xlim(x_min, x_max)\n",
    "y = t.pdf(x,dof)\n",
    "plt.plot(x,y)\n",
    "\n",
    "x1=np.linspace(x_min,-t_critical,10)\n",
    "y1=t.pdf(x1,dof)\n",
    "plt.fill_between(x1,y1,color='brown')\n",
    "\n",
    "x2=np.linspace(t_critical,x_max,10)\n",
    "y2=t.pdf(x2,dof)\n",
    "plt.fill_between(x2,y2,color='brown')\n",
    "\n",
    "\n",
    "plt.scatter(t_cal,0,color='green')\n",
    "plt.annotate('t cal',(t_cal,0.0005),color='green',arrowprops={})\n",
    "\n",
    "plt.scatter(-t_critical,0,color='black')\n",
    "plt.annotate('left_t',(-t_critical,-0.0005))\n",
    "\n",
    "plt.scatter(t_critical,0,color='black')\n",
    "plt.annotate('right_t',(t_critical,-0.0005))\n",
    "\n",
    "plt.show()"
   ]
  },
  {
   "cell_type": "code",
   "execution_count": 142,
   "metadata": {},
   "outputs": [
    {
     "name": "stdout",
     "output_type": "stream",
     "text": [
      "Fail to reject Null Hypothesis\n"
     ]
    }
   ],
   "source": [
    "if(np.abs(t_cal) > t_critical):\n",
    "    print(\"Reject Null Hypothesis\")\n",
    "else:\n",
    "    print(\"Fail to reject Null Hypothesis\")"
   ]
  },
  {
   "cell_type": "code",
   "execution_count": 143,
   "metadata": {},
   "outputs": [
    {
     "name": "stdout",
     "output_type": "stream",
     "text": [
      "p_value =  0.2156616653606347\n",
      "Fail to reject Null Hypothesis\n"
     ]
    }
   ],
   "source": [
    "p_value = (1 - t.cdf(np.abs(t_cal),dof))*2\n",
    "\n",
    "print(\"p_value = \", p_value)\n",
    "\n",
    "if(p_value <= alpha):\n",
    "    print(\"Reject Null Hypothesis\")\n",
    "else:\n",
    "    print(\"Fail to reject Null Hypothesis\")"
   ]
  },
  {
   "cell_type": "markdown",
   "metadata": {},
   "source": [
    "### Q-2: You have developed a new Natural Language Processing Algorithms and done a user study. You claim that the average rating given by the users is greater than 4 on a scale of 1 to 5. How do you prove this to your client? ~(Given that the population std is 0.5)~\n",
    "\n",
    "\n",
    "###   Null Hypothesis : $$ H_0 : \\mu > 4$$\n",
    "###  Alternate Hypothesis : $$ H_1 : \\mu \\leq 4 $$\n"
   ]
  },
  {
   "cell_type": "code",
   "execution_count": 168,
   "metadata": {},
   "outputs": [],
   "source": [
    "sample = [4,3,5,4,5,3,5,5,4,2,4,5,5,4,4,5,4,5,4,5]\n",
    "sample_mean = np.mean(sample)\n",
    "sample_size = len(sample)\n",
    "sample_standard_deviation = np.std(sample)\n",
    "population_mean = 4"
   ]
  },
  {
   "cell_type": "code",
   "execution_count": 169,
   "metadata": {},
   "outputs": [
    {
     "name": "stdout",
     "output_type": "stream",
     "text": [
      "population mean = 4 \n",
      "sample mean= 4.25 \n",
      "sample std = 0.82915619758885 \n",
      "sample size = 20\n"
     ]
    }
   ],
   "source": [
    "print(f'population mean = {population_mean} \\nsample mean= {sample_mean} \\nsample std = {sample_standard_deviation} \\nsample size = {sample_size}')"
   ]
  },
  {
   "cell_type": "code",
   "execution_count": 170,
   "metadata": {},
   "outputs": [
    {
     "data": {
      "text/plain": [
       "1.3483997249264843"
      ]
     },
     "execution_count": 170,
     "metadata": {},
     "output_type": "execute_result"
    }
   ],
   "source": [
    "t_cal = t_sample(sample_mean, population_mean, sample_standard_deviation, sample_size)\n",
    "t_cal"
   ]
  },
  {
   "cell_type": "code",
   "execution_count": 171,
   "metadata": {},
   "outputs": [
    {
     "data": {
      "text/plain": [
       "1.729132811521367"
      ]
     },
     "execution_count": 171,
     "metadata": {},
     "output_type": "execute_result"
    }
   ],
   "source": [
    "alpha = 0.05\n",
    "t_critical = t.ppf(1-alpha, sample_size-1)\n",
    "t_critical"
   ]
  },
  {
   "cell_type": "code",
   "execution_count": 174,
   "metadata": {},
   "outputs": [
    {
     "data": {
      "image/png": "[encoded data removed]",
      "text/plain": [
       "<Figure size 432x288 with 1 Axes>"
      ]
     },
     "metadata": {
      "needs_background": "light"
     },
     "output_type": "display_data"
    }
   ],
   "source": [
    "x_min=-4\n",
    "x_max=4\n",
    "dof = sample_size-1\n",
    "x = np.linspace(x_min,x_max,100)\n",
    "y = t.pdf(x,dof)\n",
    "plt.plot(x,y)\n",
    "\n",
    "x1=np.linspace(x_min,-t_critical,10)\n",
    "y1=t.pdf(x1,dof)\n",
    "plt.fill_between(x1,y1,color='brown')\n",
    "\n",
    "plt.scatter(-t_critical,0,color='black')\n",
    "plt.annotate('t critical',(-t_critical,0.0005))\n",
    "\n",
    "plt.scatter(t_cal,0,color='green')\n",
    "plt.annotate('t cal',(t_cal,0.0005),color='green',arrowprops={})\n",
    "\n",
    "plt.show()"
   ]
  },
  {
   "cell_type": "code",
   "execution_count": 176,
   "metadata": {},
   "outputs": [
    {
     "name": "stdout",
     "output_type": "stream",
     "text": [
      "Fail to reject Null Hypothesis\n"
     ]
    }
   ],
   "source": [
    "if(np.abs(t_cal) > t_critical):\n",
    "    print(\"Reject Null Hypothesis\")\n",
    "else:\n",
    "    print(\"Fail to reject Null Hypothesis\")"
   ]
  },
  {
   "cell_type": "code",
   "execution_count": 177,
   "metadata": {},
   "outputs": [
    {
     "name": "stdout",
     "output_type": "stream",
     "text": [
      "p_value =  0.09669263853561205\n",
      "Fail to reject Null Hypothesis\n"
     ]
    }
   ],
   "source": [
    "p_value = (1 - t.cdf(np.abs(t_cal),dof))\n",
    "\n",
    "print(\"p_value = \", p_value)\n",
    "\n",
    "if(p_value <= alpha):\n",
    "    print(\"Reject Null Hypothesis\")\n",
    "else:\n",
    "    print(\"Fail to reject Null Hypothesis\")"
   ]
  },
  {
   "cell_type": "markdown",
   "metadata": {},
   "source": [
    " ### Q-3: TATA has developed a better fuel management system for the SUV segment. They claim that with this system, on average the SUV's mileage is at least 15 km/litre? ~(Given that the population std is 1)~\n",
    " \n",
    " ###   Null Hypothesis : $$ H_0 : \\mu \\geq 15$$\n",
    "###  Alternate Hypothesis : $$ H_1 : \\mu < 15 $$"
   ]
  },
  {
   "cell_type": "code",
   "execution_count": 178,
   "metadata": {},
   "outputs": [],
   "source": [
    "sample = [14.08,14.13,15.65,13.78,16.26,14.97,15.36,15.81,14.53,16.79,15.78,16.98,13.23,15.43,15.46,13.88,14.31,14.41,15.76,15.38]\n",
    "sample_mean = np.mean(sample)\n",
    "sample_size = len(sample)\n",
    "sample_standard_deviation = np.std(sample)\n",
    "population_mean = 15"
   ]
  },
  {
   "cell_type": "code",
   "execution_count": 179,
   "metadata": {},
   "outputs": [
    {
     "name": "stdout",
     "output_type": "stream",
     "text": [
      "population mean = 15 \n",
      "sample mean = 15.099 \n",
      "sample std = 0.9994043225842081 \n",
      "sample size = 20\n"
     ]
    }
   ],
   "source": [
    "print(f'population mean = {population_mean} \\nsample mean = {sample_mean} \\nsample std = {sample_standard_deviation} \\nsample size = {sample_size}')"
   ]
  },
  {
   "cell_type": "code",
   "execution_count": 180,
   "metadata": {},
   "outputs": [
    {
     "data": {
      "text/plain": [
       "0.4430053478257341"
      ]
     },
     "execution_count": 180,
     "metadata": {},
     "output_type": "execute_result"
    }
   ],
   "source": [
    "t_cal = t_sample(sample_mean, population_mean, sample_standard_deviation, sample_size)\n",
    "t_cal"
   ]
  },
  {
   "cell_type": "code",
   "execution_count": 181,
   "metadata": {},
   "outputs": [
    {
     "data": {
      "text/plain": [
       "1.729132811521367"
      ]
     },
     "execution_count": 181,
     "metadata": {},
     "output_type": "execute_result"
    }
   ],
   "source": [
    "alpha = 0.05\n",
    "t_critical = t.ppf(1-alpha, dof)\n",
    "t_critical"
   ]
  },
  {
   "cell_type": "code",
   "execution_count": 189,
   "metadata": {},
   "outputs": [
    {
     "data": {
      "image/png": "[encoded data removed]",
      "text/plain": [
       "<Figure size 432x288 with 1 Axes>"
      ]
     },
     "metadata": {
      "needs_background": "light"
     },
     "output_type": "display_data"
    }
   ],
   "source": [
    "x_min=-4\n",
    "x_max=4\n",
    "dof = sample_size-1\n",
    "x = np.linspace(x_min,x_max,100)\n",
    "y = t.pdf(x,dof)\n",
    "plt.plot(x,y)\n",
    "\n",
    "x1=np.linspace(x_min,-t_critical,10)\n",
    "y1=t.pdf(x1,dof)\n",
    "plt.fill_between(x1,y1,color='brown')\n",
    "\n",
    "plt.scatter(-t_critical,0,color='black')\n",
    "plt.annotate('t critical',(-t_critical,0.0005))\n",
    "\n",
    "plt.scatter(t_cal,0,color='green')\n",
    "plt.annotate('t cal',(t_cal,0.0005),color='green',arrowprops={})\n",
    "\n",
    "plt.show()"
   ]
  },
  {
   "cell_type": "code",
   "execution_count": 187,
   "metadata": {},
   "outputs": [
    {
     "name": "stdout",
     "output_type": "stream",
     "text": [
      "Fail to reject Null Hypothesis\n"
     ]
    }
   ],
   "source": [
    "if(np.abs(t_cal) > t_critical):\n",
    "    print(\"Reject Null Hypothesis\")\n",
    "else:\n",
    "    print(\"Fail to reject Null Hypothesis\")"
   ]
  },
  {
   "cell_type": "code",
   "execution_count": 186,
   "metadata": {},
   "outputs": [
    {
     "name": "stdout",
     "output_type": "stream",
     "text": [
      "p_value =  0.33138228806663306\n",
      "Fail to reject Null Hypothesis\n"
     ]
    }
   ],
   "source": [
    "p_value = (1 - t.cdf(np.abs(t_cal),dof))\n",
    "\n",
    "print(\"p_value = \", p_value)\n",
    "\n",
    "if(p_value < alpha):\n",
    "    print(\"Reject Null Hypothesis\")\n",
    "else:\n",
    "    print(\"Fail to reject Null Hypothesis\")"
   ]
  },
  {
   "cell_type": "markdown",
   "metadata": {},
   "source": [
    "### Q-4: You have developed a new Machine Learning Application and claim that on average it takes less than 100 ms to predict for any future datapoint. How do you convince your client about this claim? ~(Based on past data you know that the std is 10 ms)~\n",
    "\n",
    " ###   Null Hypothesis : $$ H_0 : \\mu < 100$$\n",
    "###  Alternate Hypothesis : $$ H_1 : \\mu \\geq 100 $$"
   ]
  },
  {
   "cell_type": "code",
   "execution_count": 158,
   "metadata": {},
   "outputs": [],
   "source": [
    "\n",
    "sample = np.linspace(75,120,10)"
   ]
  },
  {
   "cell_type": "code",
   "execution_count": 159,
   "metadata": {},
   "outputs": [
    {
     "data": {
      "text/plain": [
       "array([ 75.,  80.,  85.,  90.,  95., 100., 105., 110., 115., 120.])"
      ]
     },
     "execution_count": 159,
     "metadata": {},
     "output_type": "execute_result"
    }
   ],
   "source": [
    "sample"
   ]
  },
  {
   "cell_type": "code",
   "execution_count": 160,
   "metadata": {},
   "outputs": [],
   "source": [
    "sample_mean = np.mean(sample)\n",
    "sample_size = 10\n",
    "sample_standard_deviation = np.std(sample)\n",
    "population_mean = 100"
   ]
  },
  {
   "cell_type": "code",
   "execution_count": 161,
   "metadata": {},
   "outputs": [
    {
     "name": "stdout",
     "output_type": "stream",
     "text": [
      "population mean = 100 \n",
      "sample mean= 97.5 \n",
      "sample std = 14.361406616345072 \n",
      "sample size = 10\n"
     ]
    }
   ],
   "source": [
    "print(f'population mean = {population_mean} \\nsample mean= {sample_mean} \\nsample std = {sample_standard_deviation} \\nsample size = {sample_size}')"
   ]
  },
  {
   "cell_type": "code",
   "execution_count": 162,
   "metadata": {},
   "outputs": [
    {
     "data": {
      "text/plain": [
       "-0.5504818825631803"
      ]
     },
     "execution_count": 162,
     "metadata": {},
     "output_type": "execute_result"
    }
   ],
   "source": [
    "t_cal = t_sample(sample_mean, population_mean, sample_standard_deviation, sample_size)\n",
    "t_cal"
   ]
  },
  {
   "cell_type": "code",
   "execution_count": 163,
   "metadata": {},
   "outputs": [
    {
     "data": {
      "text/plain": [
       "1.729132811521367"
      ]
     },
     "execution_count": 163,
     "metadata": {},
     "output_type": "execute_result"
    }
   ],
   "source": [
    "alpha = 0.05\n",
    "t_critical = (t.ppf(1-alpha, dof))\n",
    "t_critical"
   ]
  },
  {
   "cell_type": "code",
   "execution_count": 164,
   "metadata": {},
   "outputs": [
    {
     "data": {
      "image/png": "[encoded data removed]",
      "text/plain": [
       "<Figure size 432x288 with 1 Axes>"
      ]
     },
     "metadata": {
      "needs_background": "light"
     },
     "output_type": "display_data"
    }
   ],
   "source": [
    "x_min=-6\n",
    "x_max=6\n",
    "dof = sample_size-1\n",
    "x = np.linspace(x_min,x_max,100)\n",
    "y = t.pdf(x,dof)\n",
    "plt.plot(x,y)\n",
    "\n",
    "x1=np.linspace(t_critical,x_max,10)\n",
    "y1=t.pdf(x1,dof)\n",
    "plt.fill_between(x1,y1,color='brown')\n",
    "\n",
    "plt.scatter(t_critical,0,color='black')\n",
    "plt.annotate('t critical',(t_critical,0.0005))\n",
    "\n",
    "plt.scatter(t_cal,0,color='green')\n",
    "plt.annotate('t cal',(t_cal,0.0005),color='green',arrowprops={})\n",
    "\n",
    "plt.show()"
   ]
  },
  {
   "cell_type": "code",
   "execution_count": 165,
   "metadata": {},
   "outputs": [
    {
     "name": "stdout",
     "output_type": "stream",
     "text": [
      "Fail to reject Null Hypothesis\n"
     ]
    }
   ],
   "source": [
    "if(abs(t_cal) > t_critical):\n",
    "    print(\"Reject Null Hypothesis\")\n",
    "else:\n",
    "    print(\"Fail to reject Null Hypothesis\")"
   ]
  },
  {
   "cell_type": "code",
   "execution_count": 166,
   "metadata": {},
   "outputs": [
    {
     "name": "stdout",
     "output_type": "stream",
     "text": [
      "p_value =  0.2976929479113404\n",
      "Fail to reject Null Hypothesis\n"
     ]
    }
   ],
   "source": [
    "p_value = (1 - t.cdf(np.abs(t_cal),dof))\n",
    "\n",
    "print(\"p_value = \", p_value)\n",
    "\n",
    "if(p_value <= alpha):\n",
    "    print(\"Reject Null Hypothesis\")\n",
    "else:\n",
    "    print(\"Fail to reject Null Hypothesis\")"
   ]
  },
  {
   "cell_type": "code",
   "execution_count": null,
   "metadata": {},
   "outputs": [],
   "source": []
  }
 ],
 "metadata": {
  "kernelspec": {
   "display_name": "Python 3 (ipykernel)",
   "language": "python",
   "name": "python3"
  },
  "language_info": {
   "codemirror_mode": {
    "name": "ipython",
    "version": 3
   },
   "file_extension": ".py",
   "mimetype": "text/x-python",
   "name": "python",
   "nbconvert_exporter": "python",
   "pygments_lexer": "ipython3",
   "version": "3.8.12"
  }
 },
 "nbformat": 4,
 "nbformat_minor": 4
}
